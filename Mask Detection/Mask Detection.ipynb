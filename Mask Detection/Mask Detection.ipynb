{
 "cells": [
  {
   "cell_type": "code",
   "execution_count": 1,
   "metadata": {},
   "outputs": [],
   "source": [
    "import keras \n",
    "import PIL\n",
    "from PIL import Image\n",
    "import pandas as pd\n",
    "from keras.models import load_model\n",
    "from tensorflow.keras.preprocessing.image import img_to_array\n",
    "import matplotlib.pyplot as plt\n",
    "%matplotlib inline\n",
    "import numpy as np"
   ]
  },
  {
   "cell_type": "code",
   "execution_count": 2,
   "metadata": {},
   "outputs": [],
   "source": [
    "from keras.models import Sequential\n",
    "from keras.layers import Dense, Dropout, Flatten, Conv2D, MaxPooling2D"
   ]
  },
  {
   "cell_type": "code",
   "execution_count": 3,
   "metadata": {},
   "outputs": [],
   "source": [
    "from keras.preprocessing.image import ImageDataGenerator"
   ]
  },
  {
   "cell_type": "markdown",
   "metadata": {},
   "source": [
    "### Preprocessing"
   ]
  },
  {
   "cell_type": "code",
   "execution_count": 4,
   "metadata": {},
   "outputs": [],
   "source": [
    "training_datagen = ImageDataGenerator(rescale=1./255, shear_range=0.2, zoom_range=0.2, horizontal_flip=True)"
   ]
  },
  {
   "cell_type": "code",
   "execution_count": 5,
   "metadata": {},
   "outputs": [],
   "source": [
    "valid_datagen = ImageDataGenerator(rescale=1./255)"
   ]
  },
  {
   "cell_type": "code",
   "execution_count": 6,
   "metadata": {},
   "outputs": [
    {
     "name": "stdout",
     "output_type": "stream",
     "text": [
      "Found 1135 images belonging to 2 classes.\n"
     ]
    }
   ],
   "source": [
    "train = training_datagen.flow_from_directory('Dataset/train/reduced',\n",
    "                                             target_size=(128, 128),\n",
    "                                             class_mode='binary')"
   ]
  },
  {
   "cell_type": "code",
   "execution_count": 7,
   "metadata": {},
   "outputs": [
    {
     "name": "stdout",
     "output_type": "stream",
     "text": [
      "Found 241 images belonging to 2 classes.\n"
     ]
    }
   ],
   "source": [
    "valid = valid_datagen.flow_from_directory('Dataset/valid/reduced',\n",
    "                                             target_size=(128, 128),\n",
    "                                             class_mode='binary')"
   ]
  },
  {
   "cell_type": "markdown",
   "metadata": {},
   "source": [
    "### Build the architecture"
   ]
  },
  {
   "cell_type": "code",
   "execution_count": 8,
   "metadata": {},
   "outputs": [],
   "source": [
    "model = Sequential()\n",
    "model.add(Conv2D(32, (3, 3), input_shape=(128, 128, 3), activation='relu'))\n",
    "model.add(MaxPooling2D(pool_size=(2, 2)))\n",
    "model.add(Conv2D(32, (3, 3), activation='relu'))\n",
    "model.add(MaxPooling2D(pool_size=(2, 2)))\n",
    "model.add(Flatten())"
   ]
  },
  {
   "cell_type": "code",
   "execution_count": 9,
   "metadata": {},
   "outputs": [],
   "source": [
    "model.add(Dense(units = 64, activation='relu'))\n",
    "model.add(Dropout(0.1))\n",
    "model.add(Dense(units = 64, activation='relu'))\n",
    "model.add(Dropout(0.1))\n",
    "model.add(Dense(units = 1, activation='sigmoid'))"
   ]
  },
  {
   "cell_type": "code",
   "execution_count": 10,
   "metadata": {
    "scrolled": false
   },
   "outputs": [
    {
     "name": "stdout",
     "output_type": "stream",
     "text": [
      "Model: \"sequential\"\n",
      "_________________________________________________________________\n",
      "Layer (type)                 Output Shape              Param #   \n",
      "=================================================================\n",
      "conv2d (Conv2D)              (None, 126, 126, 32)      896       \n",
      "_________________________________________________________________\n",
      "max_pooling2d (MaxPooling2D) (None, 63, 63, 32)        0         \n",
      "_________________________________________________________________\n",
      "conv2d_1 (Conv2D)            (None, 61, 61, 32)        9248      \n",
      "_________________________________________________________________\n",
      "max_pooling2d_1 (MaxPooling2 (None, 30, 30, 32)        0         \n",
      "_________________________________________________________________\n",
      "flatten (Flatten)            (None, 28800)             0         \n",
      "_________________________________________________________________\n",
      "dense (Dense)                (None, 64)                1843264   \n",
      "_________________________________________________________________\n",
      "dropout (Dropout)            (None, 64)                0         \n",
      "_________________________________________________________________\n",
      "dense_1 (Dense)              (None, 64)                4160      \n",
      "_________________________________________________________________\n",
      "dropout_1 (Dropout)          (None, 64)                0         \n",
      "_________________________________________________________________\n",
      "dense_2 (Dense)              (None, 1)                 65        \n",
      "=================================================================\n",
      "Total params: 1,857,633\n",
      "Trainable params: 1,857,633\n",
      "Non-trainable params: 0\n",
      "_________________________________________________________________\n"
     ]
    }
   ],
   "source": [
    "model.summary()"
   ]
  },
  {
   "cell_type": "markdown",
   "metadata": {},
   "source": [
    "### Compile and Train"
   ]
  },
  {
   "cell_type": "code",
   "execution_count": 11,
   "metadata": {},
   "outputs": [],
   "source": [
    "model.compile(optimizer='adam', loss='binary_crossentropy', metrics=['accuracy'])"
   ]
  },
  {
   "cell_type": "code",
   "execution_count": 13,
   "metadata": {
    "scrolled": false
   },
   "outputs": [
    {
     "name": "stdout",
     "output_type": "stream",
     "text": [
      "Epoch 1/12\n",
      "35/35 [==============================] - 12s 338ms/step - loss: 0.6157 - accuracy: 0.6664 - val_loss: 0.2880 - val_accuracy: 0.9018\n",
      "Epoch 2/12\n",
      "35/35 [==============================] - 11s 316ms/step - loss: 0.2354 - accuracy: 0.9130 - val_loss: 0.0870 - val_accuracy: 0.9688\n",
      "Epoch 3/12\n",
      "35/35 [==============================] - 12s 330ms/step - loss: 0.1093 - accuracy: 0.9619 - val_loss: 0.0913 - val_accuracy: 0.9598\n",
      "Epoch 4/12\n",
      "35/35 [==============================] - 12s 335ms/step - loss: 0.1148 - accuracy: 0.9529 - val_loss: 0.0832 - val_accuracy: 0.9643\n",
      "Epoch 5/12\n",
      "35/35 [==============================] - 11s 312ms/step - loss: 0.0820 - accuracy: 0.9710 - val_loss: 0.0632 - val_accuracy: 0.9732\n",
      "Epoch 6/12\n",
      "35/35 [==============================] - 12s 329ms/step - loss: 0.1193 - accuracy: 0.9529 - val_loss: 0.0790 - val_accuracy: 0.9643\n",
      "Epoch 7/12\n",
      "35/35 [==============================] - 12s 333ms/step - loss: 0.0675 - accuracy: 0.9755 - val_loss: 0.0738 - val_accuracy: 0.9821\n",
      "Epoch 8/12\n",
      "35/35 [==============================] - 12s 345ms/step - loss: 0.0375 - accuracy: 0.9918 - val_loss: 0.0866 - val_accuracy: 0.9821\n",
      "Epoch 9/12\n",
      "35/35 [==============================] - 12s 349ms/step - loss: 0.0385 - accuracy: 0.9864 - val_loss: 0.0512 - val_accuracy: 0.9821\n",
      "Epoch 10/12\n",
      "35/35 [==============================] - 12s 339ms/step - loss: 0.0411 - accuracy: 0.9855 - val_loss: 0.0484 - val_accuracy: 0.9777\n",
      "Epoch 11/12\n",
      "35/35 [==============================] - 14s 395ms/step - loss: 0.0329 - accuracy: 0.9891 - val_loss: 0.0531 - val_accuracy: 0.9777\n",
      "Epoch 12/12\n",
      "35/35 [==============================] - 12s 354ms/step - loss: 0.0276 - accuracy: 0.9900 - val_loss: 0.0783 - val_accuracy: 0.9866\n"
     ]
    }
   ],
   "source": [
    "history = model.fit_generator(train,\n",
    "                   steps_per_epoch=1135//32,\n",
    "                   epochs=12,\n",
    "                   validation_data=valid,\n",
    "                   validation_steps=241//32)"
   ]
  },
  {
   "cell_type": "code",
   "execution_count": 14,
   "metadata": {},
   "outputs": [
    {
     "data": {
      "text/plain": [
       "<AxesSubplot:>"
      ]
     },
     "execution_count": 14,
     "metadata": {},
     "output_type": "execute_result"
    },
    {
     "data": {
      "image/png": "[encoded data removed]",
      "text/plain": [
       "<Figure size 432x288 with 1 Axes>"
      ]
     },
     "metadata": {
      "needs_background": "light"
     },
     "output_type": "display_data"
    }
   ],
   "source": [
    "pd.DataFrame(history.history).plot()"
   ]
  },
  {
   "cell_type": "code",
   "execution_count": 15,
   "metadata": {},
   "outputs": [],
   "source": [
    "model.save('final.h5')"
   ]
  },
  {
   "cell_type": "code",
   "execution_count": 12,
   "metadata": {},
   "outputs": [],
   "source": [
    "model = load_model('final.h5')"
   ]
  },
  {
   "cell_type": "markdown",
   "metadata": {},
   "source": [
    "### Live Video using Opencv"
   ]
  },
  {
   "cell_type": "code",
   "execution_count": 13,
   "metadata": {},
   "outputs": [],
   "source": [
    "import cv2\n",
    "import numpy as np"
   ]
  },
  {
   "cell_type": "code",
   "execution_count": 14,
   "metadata": {},
   "outputs": [],
   "source": [
    "face_cascade = cv2.CascadeClassifier('haarcascade_frontalface_default.xml') #import haar cascade"
   ]
  },
  {
   "cell_type": "code",
   "execution_count": 18,
   "metadata": {},
   "outputs": [],
   "source": [
    "cap = cv2.VideoCapture(0)\n",
    "\n",
    "while(True):\n",
    "    \n",
    "    ret, frame = cap.read()\n",
    "    original_frame = cv2.flip(frame, 1)\n",
    "    \n",
    "    faces = face_cascade.detectMultiScale(original_frame, scaleFactor = 1.2, minNeighbors = 4)  \n",
    "    \n",
    "    H, W, _ = original_frame.shape\n",
    "    for (x, y, w, h) in faces:\n",
    "        X1, X2 = max(0, int(x - 0.5*w)), min(int(x + 1.5*w), W)\n",
    "        Y1, Y2 = max(0, int(y - 0.5*h)), min(int(y + 1.5*h), H)\n",
    "        cv2.rectangle(original_frame, (X1, Y1), (X2, Y2), (0, 255, 0), 2) \n",
    "        \n",
    "        face = original_frame[Y1:Y2, X1:X2].copy()\n",
    "    \n",
    "    try:\n",
    "        img_pil = Image.fromarray(face)\n",
    "        resized = img_pil.resize((128, 128))\n",
    "        frame = img_to_array(resized)\n",
    "        frame_flatten = np.expand_dims(frame, axis = 0)\n",
    "\n",
    "        prob = model.predict(frame_flatten)[0][0]\n",
    "        if prob < 0.5 :\n",
    "            pred = \"No Mask , \" + str(prob)\n",
    "        else:\n",
    "            pred = \"Mask on , \" + str(prob)\n",
    "\n",
    "        font = cv2.FONT_HERSHEY_SIMPLEX   \n",
    "        cv2.putText(original_frame, pred, (50, 50),font, 1, (0, 255, 0), 2, cv2.LINE_4)\n",
    "\n",
    "    except:\n",
    "        pass\n",
    "    \n",
    "    cv2.imshow('Live Video', original_frame)\n",
    "    ch = cv2.waitKey(10)\n",
    "    \n",
    "    if ch & 0xFF == ord('q'):         #press 'q' to switch off live feed\n",
    "        break\n",
    "        \n",
    "cap.release()\n",
    "cv2.destroyAllWindows()"
   ]
  },
  {
   "cell_type": "markdown",
   "metadata": {},
   "source": [
    "### Screenshots"
   ]
  },
  {
   "cell_type": "markdown",
   "metadata": {},
   "source": [
    "![](MaskOn.png)"
   ]
  },
  {
   "cell_type": "markdown",
   "metadata": {},
   "source": [
    "![](MaskOff.png)"
   ]
  }
 ],
 "metadata": {
  "kernelspec": {
   "display_name": "Python 3",
   "language": "python",
   "name": "python3"
  },
  "language_info": {
   "codemirror_mode": {
    "name": "ipython",
    "version": 3
   },
   "file_extension": ".py",
   "mimetype": "text/x-python",
   "name": "python",
   "nbconvert_exporter": "python",
   "pygments_lexer": "ipython3",
   "version": "3.8.2"
  }
 },
 "nbformat": 4,
 "nbformat_minor": 4
}
