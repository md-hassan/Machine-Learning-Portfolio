{
 "cells": [
  {
   "cell_type": "markdown",
   "metadata": {},
   "source": [
    "### Fully Vectorized Implementaion"
   ]
  },
  {
   "cell_type": "code",
   "execution_count": 1,
   "metadata": {},
   "outputs": [],
   "source": [
    "import numpy as np\n",
    "import random"
   ]
  },
  {
   "cell_type": "code",
   "execution_count": 2,
   "metadata": {},
   "outputs": [],
   "source": [
    "class VectorizedNetwork(object):\n",
    "    \n",
    "    def __init__(self, sizes):\n",
    "        self.num_layers = len(sizes)\n",
    "        self.sizes = sizes\n",
    "        self.biases = [np.random.randn(y, 1) for y in sizes[1:]] # '0' not taken in sizes because it is the input layer \n",
    "        #will return array of vectors corresponding to biases for each neuron in each layer\n",
    "        \n",
    "        self.weights =  [np.random.randn(y, x) for x, y in zip(sizes[:-1], sizes[1:])] #will return array of weight matrices -\n",
    "        #with each having dimensions (num_neurons_in_next_layer)x(num_neurons_in_current_layer)\n",
    "    \n",
    "    def feedforward(self, a):  # a is input layer\n",
    "\n",
    "        for b, w in zip(self.biases, self.weights):\n",
    "            a = sigmoid(np.dot(w, a) + b)      #activations of one layer is stored in 'a', and is then used to -\n",
    "                                               #calculate activations for the next layer\n",
    "        return a                               #returns output of network, for current pass\n",
    "    \n",
    "    def SGD(self, training_data, num_epochs, mini_batch_size, eta, test_data=None):\n",
    "    \n",
    "        self.mini_batch_size = mini_batch_size\n",
    "        if test_data:                    #if test data is provided, will evaluate on that and print after each epoch\n",
    "            n_test = len(test_data)\n",
    "        n = len(training_data)\n",
    "\n",
    "        for i in range(num_epochs):       #repeat for these many epochs\n",
    "            random.shuffle(training_data) #shuffle training data\n",
    "            mini_batches = [training_data[k:k + mini_batch_size] for k in range(0, n, mini_batch_size)]#will create array of mini-\n",
    "                                                                                            #batches of training data for SGD.\n",
    "\n",
    "            for mini_batch in mini_batches:              #completing updation for all batches will make one epoch\n",
    "                self.update_mini_batch(mini_batch, eta) #using a single mini_batch, update weights and save inside class net itself\n",
    "            if test_data:\n",
    "                print(\"Epoch \" + str(i) + \" \" + str(self.evaluate(test_data)) + \"/\" + str(n_test))\n",
    "            else:\n",
    "                print(\"Epoch \" + str(i) + \"complete\")\n",
    "\n",
    "    def update_mini_batch(self, mini_batch, eta):\n",
    "\n",
    "        X = np.zeros(self.sizes[0])\n",
    "        for example in mini_batch:       #minibatch is a tuple of a part of examples from training data and their answers\n",
    "            X = np.column_stack((X, example[0])) #make a matrix X, containing all examples from mini_batch across columns\n",
    "        X = np.delete(X, 0, axis=1)\n",
    "        \n",
    "        Y = np.zeros(self.sizes[-1])\n",
    "        for answer in mini_batch:\n",
    "            Y = np.column_stack((Y, answer[1]))\n",
    "        Y = np.delete(Y, 0, axis=1)\n",
    "        \n",
    "        del_B, del_w = self.backprop(X, Y)\n",
    "        del_B_sum = [np.sum(dB, axis=1).reshape(dB.shape[0], 1) for dB in del_B] \n",
    "\n",
    "        self.biases = [b - eta/self.mini_batch_size*dBs for b, dBs in zip(self.biases, del_B_sum)]\n",
    "        self.weights = [w - eta/self.mini_batch_size*dw for w, dw in zip(self.weights, del_w)]\n",
    "\n",
    "    def backprop(self,X, Y):\n",
    "\n",
    "        B = []\n",
    "        for bias in self.biases:\n",
    "            B.append(np.tile(bias, self.mini_batch_size))#tile is used to duplicate one column several times and make a new array\n",
    "        \n",
    "        del_B = [np.zeros(b.shape) for b in B]\n",
    "        del_w = [np.zeros(w.shape) for w in self.weights]\n",
    "        \n",
    "        #Forward pass\n",
    "        Zs = []\n",
    "        Activations = []\n",
    "        A = X\n",
    "        Activations.append(A)\n",
    "\n",
    "        for b, w in zip(B, self.weights):\n",
    "            Z = np.dot(w, A) + b\n",
    "            Zs.append(Z)\n",
    "            A = sigmoid(Z)\n",
    "            Activations.append(A)\n",
    "\n",
    "        #Back pass\n",
    "        delta = (Activations[-1] - Y)*sigmoid_prime(Zs[-1])\n",
    "        del_B[-1] = delta\n",
    "        del_w[-1] = np.dot(delta, Activations[-2].transpose())\n",
    "\n",
    "        for l in range(2, self.num_layers):\n",
    "            delta = np.dot(self.weights[-l+1].transpose(), delta)*sigmoid_prime(Zs[-l])\n",
    "            del_B[-l] = delta\n",
    "            del_w[-l] = np.dot(delta, Activations[-l-1].transpose())\n",
    "\n",
    "        return del_B, del_w\n",
    "     \n",
    "    def evaluate(self, test_data):\n",
    "        \n",
    "        test_results = [(np.argmax(self.feedforward(x)), y) #argmax returns index of element with largest value in an array\n",
    "                        for (x, y) in test_data]\n",
    "        return sum(int(x == y) for (x, y) in test_results)\n"
   ]
  },
  {
   "cell_type": "code",
   "execution_count": 3,
   "metadata": {},
   "outputs": [],
   "source": [
    "# Miscellaneous functions   \n",
    "def sigmoid(z):\n",
    "    return 1.0/(1.0 + np.exp(-z))\n",
    "\n",
    "def sigmoid_prime(z):\n",
    "    \"\"\"Derivative of the sigmoid function.\"\"\"\n",
    "    return sigmoid(z)*(1-sigmoid(z))"
   ]
  },
  {
   "cell_type": "code",
   "execution_count": 4,
   "metadata": {},
   "outputs": [],
   "source": [
    "import sys\n",
    "sys.path.append(\"../\")\n",
    "\n",
    "import mnist_loader\n",
    "training_data, validation_data, test_data = mnist_loader.load_data_wrapper()\n",
    "training_data = list(training_data)                #compatibility b/w python 2 and 3. python 3 cannot use len() on zip\n",
    "valid_data = list(validation_data)              #therefore convert zip to list\n",
    "test_data = list(test_data)"
   ]
  },
  {
   "cell_type": "code",
   "execution_count": 5,
   "metadata": {},
   "outputs": [
    {
     "name": "stdout",
     "output_type": "stream",
     "text": [
      "Epoch 0 9079/10000\n",
      "Epoch 1 9229/10000\n",
      "Epoch 2 9252/10000\n",
      "Epoch 3 9312/10000\n",
      "Epoch 4 9320/10000\n",
      "Epoch 5 9343/10000\n",
      "Epoch 6 9363/10000\n",
      "Epoch 7 9373/10000\n",
      "Epoch 8 9364/10000\n",
      "Epoch 9 9379/10000\n",
      "Epoch 10 9410/10000\n",
      "Epoch 11 9393/10000\n",
      "Epoch 12 9390/10000\n",
      "Epoch 13 9395/10000\n",
      "Epoch 14 9404/10000\n",
      "Epoch 15 9423/10000\n",
      "Epoch 16 9453/10000\n",
      "Epoch 17 9419/10000\n",
      "Epoch 18 9426/10000\n",
      "Epoch 19 9426/10000\n",
      "Epoch 20 9433/10000\n",
      "Epoch 21 9418/10000\n",
      "Epoch 22 9463/10000\n",
      "Epoch 23 9443/10000\n",
      "Epoch 24 9440/10000\n",
      "Epoch 25 9447/10000\n",
      "Epoch 26 9455/10000\n",
      "Epoch 27 9457/10000\n",
      "Epoch 28 9416/10000\n",
      "Epoch 29 9448/10000\n"
     ]
    }
   ],
   "source": [
    "net = VectorizedNetwork([784, 30, 10])    #create neural net with 3 layers(including input and output) and 1 hidden layer of 30 neurons\n",
    "net.SGD(training_data, 30, 10, 3.0, test_data=test_data)"
   ]
  },
  {
   "cell_type": "code",
   "execution_count": null,
   "metadata": {},
   "outputs": [],
   "source": []
  }
 ],
 "metadata": {
  "kernelspec": {
   "display_name": "Python 3",
   "language": "python",
   "name": "python3"
  },
  "language_info": {
   "codemirror_mode": {
    "name": "ipython",
    "version": 3
   },
   "file_extension": ".py",
   "mimetype": "text/x-python",
   "name": "python",
   "nbconvert_exporter": "python",
   "pygments_lexer": "ipython3",
   "version": "3.7.6"
  }
 },
 "nbformat": 4,
 "nbformat_minor": 4
}
