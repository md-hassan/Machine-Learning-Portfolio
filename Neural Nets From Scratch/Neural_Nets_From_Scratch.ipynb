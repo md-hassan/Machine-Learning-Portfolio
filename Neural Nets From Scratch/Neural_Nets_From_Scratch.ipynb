{
 "cells": [
  {
   "cell_type": "code",
   "execution_count": 1,
   "metadata": {},
   "outputs": [],
   "source": [
    "import numpy as np\n",
    "import random"
   ]
  },
  {
   "cell_type": "code",
   "execution_count": 2,
   "metadata": {},
   "outputs": [],
   "source": [
    "class Network(object):\n",
    "    \n",
    "    def __init__(self, sizes):\n",
    "        self.num_layers = len(sizes)\n",
    "        self.sizes = sizes\n",
    "        self.biases = [np.random.randn(y, 1) for y in sizes[1:]] # '0' not taken in sizes because it is the input layer \n",
    "        #will return array of vectors corresponding to biases for each neuron in each layer\n",
    "        \n",
    "        self.weights =  [np.random.randn(y, x) for x, y in zip(sizes[:-1], sizes[1:])] #will return array of weight matrices -\n",
    "        #with each having dimensions (num_neurons_in_next_layer)x(num_neurons_in_current_layer)\n",
    "    \n",
    "    def feedforward(self, a):  # a is input layer\n",
    "\n",
    "        for b, w in zip(self.biases, self.weights):\n",
    "            a = sigmoid(np.dot(w, a) + b)      #activations of one layer is stored in 'a', and is then used to -\n",
    "                                               #calculate activations for the next layer\n",
    "        return a                               #returns output of network, for current pass\n",
    "    \n",
    "    def SGD(self, training_data, num_epochs, mini_batch_size, eta, test_data=None):\n",
    "    \n",
    "        if test_data:                    #if test data is provided, will evaluate on that and print after each epoch\n",
    "            n_test = len(test_data)\n",
    "        n = len(training_data)\n",
    "\n",
    "        for i in range(num_epochs):       #repeat for these many epochs\n",
    "            random.shuffle(training_data) #shuffle training data\n",
    "            mini_batches = [training_data[k:k + mini_batch_size] for k in range(0, n, mini_batch_size)]#will create array of mini-\n",
    "                                                                                            #batches of training data for SGD.\n",
    "\n",
    "            for mini_batch in mini_batches:              #completing updation for all batches will make one epoch\n",
    "                self.update_mini_batch(mini_batch, eta) #using a single mini_batch, update weights and save inside class net itself\n",
    "            if test_data:\n",
    "                print(\"Epoch \" + str(i) + \" \" + str(self.evaluate(test_data)) + \"/\" + str(n_test))\n",
    "            else:\n",
    "                print(\"Epoch \" + str(i) + \"complete\")\n",
    "\n",
    "    def update_mini_batch(self,mini_batch,eta):\n",
    "\n",
    "        del_b_sum = [np.zeros(b.shape) for b in self.biases]\n",
    "        del_w_sum = [np.zeros(w.shape) for w in self.weights]\n",
    "\n",
    "        for x, y in mini_batch:\n",
    "            del_b, del_w = self.backprop(x, y)                  #find derivatives wrt bases and weights FOR ONE EXAMPLE\n",
    "            del_b_sum = [dbs + db for dbs, db in zip(del_b_sum, del_b)]#sum with derivatives for other examples, to take average at the end\n",
    "            del_w_sum = [dws + dw for dws, dw in zip(del_w_sum, del_w)]#same for weights\n",
    "\n",
    "        self.biases = [b - eta/len(mini_batch)*db_sum for b, db_sum in zip(self.biases, del_b_sum)]#update biases after finding derivative over mini batch\n",
    "        self.weights = [w - eta/len(mini_batch)*dw_sum for w, dw_sum in zip(self.weights, del_w_sum)]#same for weights\n",
    "\n",
    "\n",
    "    def backprop(self, x, y):\n",
    "\n",
    "        del_b = [np.zeros(b.shape) for b in self.biases]\n",
    "        del_w = [np.zeros(w.shape) for w in self.weights]\n",
    "\n",
    "        #Forward pass\n",
    "        zs = []\n",
    "        activations = []\n",
    "        a = x                                #set inputs as first activation layer\n",
    "        activations.append(a)\n",
    "        for b, w in zip(self.biases, self.weights):\n",
    "            z = np.dot(w, a) + b             #find z for next layer\n",
    "            zs.append(z)                     #save z in and array for later(backpass)\n",
    "            a = sigmoid(z)                   #find activation for next layer\n",
    "            activations.append(a)            #save activations in an array\n",
    "\n",
    "        #Backward pass\n",
    "        delta = (activations[-1] - y)*sigmoid_prime(zs[-1])     #find delta for last layer, using formula (hadamard product)\n",
    "        del_b[-1] = delta                                       #find and save derivative wrt biases for last layer, using formula\n",
    "        del_w[-1] = np.dot(delta, activations[-2].transpose())  #find and save derivative wrt weights for last layer, using formula\n",
    "\n",
    "        for l in range(2, self.num_layers):\n",
    "            delta = np.dot(self.weights[-l+1].transpose(), delta)*sigmoid_prime(zs[-l])  #find delta for previous layer, using formula\n",
    "            del_b[-l] = delta                                 #find and save derivative wrt biases for previous layer, using formula\n",
    "            del_w[-l] = np.dot(delta, activations[-l-1].transpose()) #find and save derivative wrt weights for previous layer, using formula\n",
    "\n",
    "        return del_b, del_w\n",
    "\n",
    "\n",
    "    def evaluate(self, test_data):\n",
    "        \n",
    "        test_results = [(np.argmax(self.feedforward(x)), y) #argmax returns index of element with largest value in an array\n",
    "                        for (x, y) in test_data]\n",
    "        return sum(int(x == y) for (x, y) in test_results)\n"
   ]
  },
  {
   "cell_type": "code",
   "execution_count": 3,
   "metadata": {},
   "outputs": [],
   "source": [
    "# Miscellaneous functions   \n",
    "def sigmoid(z):\n",
    "    return 1.0/(1.0 + np.exp(-z))\n",
    "\n",
    "def sigmoid_prime(z):\n",
    "    \"\"\"Derivative of the sigmoid function.\"\"\"\n",
    "    return sigmoid(z)*(1-sigmoid(z))"
   ]
  },
  {
   "cell_type": "code",
   "execution_count": 4,
   "metadata": {},
   "outputs": [],
   "source": [
    "import sys\n",
    "sys.path.append(\"../\")\n",
    "\n",
    "import mnist_loader\n",
    "training_data, validation_data, test_data = mnist_loader.load_data_wrapper()\n",
    "training_data = list(training_data)                #compatibility b/w python 2 and 3. python 3 cannot use len() on zip\n",
    "valid_data = list(validation_data)              #therefore convert zip to list\n",
    "test_data = list(test_data)"
   ]
  },
  {
   "cell_type": "code",
   "execution_count": 5,
   "metadata": {},
   "outputs": [
    {
     "name": "stdout",
     "output_type": "stream",
     "text": [
      "Epoch 0 9084/10000\n",
      "Epoch 1 9241/10000\n",
      "Epoch 2 9338/10000\n",
      "Epoch 3 9367/10000\n",
      "Epoch 4 9367/10000\n",
      "Epoch 5 9424/10000\n",
      "Epoch 6 9436/10000\n",
      "Epoch 7 9395/10000\n",
      "Epoch 8 9409/10000\n",
      "Epoch 9 9465/10000\n",
      "Epoch 10 9437/10000\n",
      "Epoch 11 9471/10000\n",
      "Epoch 12 9474/10000\n",
      "Epoch 13 9470/10000\n",
      "Epoch 14 9479/10000\n",
      "Epoch 15 9490/10000\n",
      "Epoch 16 9517/10000\n",
      "Epoch 17 9503/10000\n",
      "Epoch 18 9487/10000\n",
      "Epoch 19 9509/10000\n"
     ]
    }
   ],
   "source": [
    "net = Network([784, 30, 10])      #create neural net with 3 layers(including input and output) and 1 hidden layer of 30 neurons\n",
    "net.SGD(training_data, 20, 10, 3.0, test_data=test_data)"
   ]
  },
  {
   "cell_type": "code",
   "execution_count": null,
   "metadata": {},
   "outputs": [],
   "source": []
  }
 ],
 "metadata": {
  "kernelspec": {
   "display_name": "Python 3",
   "language": "python",
   "name": "python3"
  },
  "language_info": {
   "codemirror_mode": {
    "name": "ipython",
    "version": 3
   },
   "file_extension": ".py",
   "mimetype": "text/x-python",
   "name": "python",
   "nbconvert_exporter": "python",
   "pygments_lexer": "ipython3",
   "version": "3.7.6"
  }
 },
 "nbformat": 4,
 "nbformat_minor": 4
}
